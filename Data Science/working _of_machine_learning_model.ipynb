{
 "cells": [
  {
   "cell_type": "markdown",
   "metadata": {
    "colab_type": "text",
    "id": "rkNgJ-pK_Aje"
   },
   "source": [
    "# Working Concept of Machine Learning Models\n",
    "\n",
    "##INTRODUCTION\n",
    "This example is the basic concept of working of machine learning model. In this example we will classify different species of [Iris](https://en.wikipedia.org/wiki/Iris_(plant) flower using [Logistic regression](https://en.wikipedia.org/wiki/Logistic_regression). For training this model we will use small dataset of iris which is a part of [Sci-kit learn](https://scikit-learn.org/stable/).\n",
    "\n",
    "In this dataset there are :\n",
    "\n",
    "<b>4 Features:</b> \n",
    "<ul>\n",
    "    <li> sepal length in cm</li>\n",
    "    <li> sepal width in cm</li>\n",
    "    <li> petal length in cm</li>\n",
    "    <li> petal width in cm</li>\n",
    "</ul>\n",
    "\n",
    "<b>3 Class:</b> (50 of each class)\n",
    "<ul>\n",
    "    <li> Iris-Setosa</li>\n",
    "    <li> Iris-Versicolour</li>\n",
    "    <li> Iris-Virginica</li>\n",
    "</ul>\n"
   ]
  },
  {
   "cell_type": "code",
   "execution_count": 0,
   "metadata": {
    "colab": {},
    "colab_type": "code",
    "id": "M5AtGm8sUUY9"
   },
   "outputs": [],
   "source": [
    "# importing required libraries \n",
    "from sklearn import datasets   \n",
    "import matplotlib.pyplot as plt\n",
    "import math"
   ]
  },
  {
   "cell_type": "code",
   "execution_count": 0,
   "metadata": {
    "colab": {},
    "colab_type": "code",
    "id": "UXcdyBkWUYFU"
   },
   "outputs": [],
   "source": [
    "# loadind data from dataset\n",
    "iris = datasets.load_iris()"
   ]
  },
  {
   "cell_type": "code",
   "execution_count": 3,
   "metadata": {
    "colab": {
     "base_uri": "https://localhost:8080/",
     "height": 1000
    },
    "colab_type": "code",
    "executionInfo": {
     "elapsed": 1886,
     "status": "ok",
     "timestamp": 1588697295006,
     "user": {
      "displayName": "Sanket Kumbhare",
      "photoUrl": "https://lh3.googleusercontent.com/a-/AOh14Gj6hPoWxeWn_K5PLwx86kFcTGcBPSZVsAWHcTWgNQ=s64",
      "userId": "17414675687279047219"
     },
     "user_tz": -330
    },
    "id": "7y94r4etUawv",
    "outputId": "7801848d-350c-4db2-fbf4-8e632cdb269e"
   },
   "outputs": [
    {
     "name": "stdout",
     "output_type": "stream",
     "text": [
      ".. _iris_dataset:\n",
      "\n",
      "Iris plants dataset\n",
      "--------------------\n",
      "\n",
      "**Data Set Characteristics:**\n",
      "\n",
      "    :Number of Instances: 150 (50 in each of three classes)\n",
      "    :Number of Attributes: 4 numeric, predictive attributes and the class\n",
      "    :Attribute Information:\n",
      "        - sepal length in cm\n",
      "        - sepal width in cm\n",
      "        - petal length in cm\n",
      "        - petal width in cm\n",
      "        - class:\n",
      "                - Iris-Setosa\n",
      "                - Iris-Versicolour\n",
      "                - Iris-Virginica\n",
      "                \n",
      "    :Summary Statistics:\n",
      "\n",
      "    ============== ==== ==== ======= ===== ====================\n",
      "                    Min  Max   Mean    SD   Class Correlation\n",
      "    ============== ==== ==== ======= ===== ====================\n",
      "    sepal length:   4.3  7.9   5.84   0.83    0.7826\n",
      "    sepal width:    2.0  4.4   3.05   0.43   -0.4194\n",
      "    petal length:   1.0  6.9   3.76   1.76    0.9490  (high!)\n",
      "    petal width:    0.1  2.5   1.20   0.76    0.9565  (high!)\n",
      "    ============== ==== ==== ======= ===== ====================\n",
      "\n",
      "    :Missing Attribute Values: None\n",
      "    :Class Distribution: 33.3% for each of 3 classes.\n",
      "    :Creator: R.A. Fisher\n",
      "    :Donor: Michael Marshall (MARSHALL%PLU@io.arc.nasa.gov)\n",
      "    :Date: July, 1988\n",
      "\n",
      "The famous Iris database, first used by Sir R.A. Fisher. The dataset is taken\n",
      "from Fisher's paper. Note that it's the same as in R, but not as in the UCI\n",
      "Machine Learning Repository, which has two wrong data points.\n",
      "\n",
      "This is perhaps the best known database to be found in the\n",
      "pattern recognition literature.  Fisher's paper is a classic in the field and\n",
      "is referenced frequently to this day.  (See Duda & Hart, for example.)  The\n",
      "data set contains 3 classes of 50 instances each, where each class refers to a\n",
      "type of iris plant.  One class is linearly separable from the other 2; the\n",
      "latter are NOT linearly separable from each other.\n",
      "\n",
      ".. topic:: References\n",
      "\n",
      "   - Fisher, R.A. \"The use of multiple measurements in taxonomic problems\"\n",
      "     Annual Eugenics, 7, Part II, 179-188 (1936); also in \"Contributions to\n",
      "     Mathematical Statistics\" (John Wiley, NY, 1950).\n",
      "   - Duda, R.O., & Hart, P.E. (1973) Pattern Classification and Scene Analysis.\n",
      "     (Q327.D83) John Wiley & Sons.  ISBN 0-471-22361-1.  See page 218.\n",
      "   - Dasarathy, B.V. (1980) \"Nosing Around the Neighborhood: A New System\n",
      "     Structure and Classification Rule for Recognition in Partially Exposed\n",
      "     Environments\".  IEEE Transactions on Pattern Analysis and Machine\n",
      "     Intelligence, Vol. PAMI-2, No. 1, 67-71.\n",
      "   - Gates, G.W. (1972) \"The Reduced Nearest Neighbor Rule\".  IEEE Transactions\n",
      "     on Information Theory, May 1972, 431-433.\n",
      "   - See also: 1988 MLC Proceedings, 54-64.  Cheeseman et al\"s AUTOCLASS II\n",
      "     conceptual clustering system finds 3 classes in the data.\n",
      "   - Many, many more ...\n"
     ]
    }
   ],
   "source": [
    "print(iris.DESCR)"
   ]
  },
  {
   "cell_type": "code",
   "execution_count": 4,
   "metadata": {
    "colab": {
     "base_uri": "https://localhost:8080/",
     "height": 102
    },
    "colab_type": "code",
    "executionInfo": {
     "elapsed": 1858,
     "status": "ok",
     "timestamp": 1588697295008,
     "user": {
      "displayName": "Sanket Kumbhare",
      "photoUrl": "https://lh3.googleusercontent.com/a-/AOh14Gj6hPoWxeWn_K5PLwx86kFcTGcBPSZVsAWHcTWgNQ=s64",
      "userId": "17414675687279047219"
     },
     "user_tz": -330
    },
    "id": "l1u9tgkMVtnu",
    "outputId": "af371173-72de-4d5e-c9b2-1162839059ef"
   },
   "outputs": [
    {
     "data": {
      "text/plain": [
       "array([[5.1, 3.5, 1.4, 0.2],\n",
       "       [4.9, 3. , 1.4, 0.2],\n",
       "       [4.7, 3.2, 1.3, 0.2],\n",
       "       [4.6, 3.1, 1.5, 0.2],\n",
       "       [5. , 3.6, 1.4, 0.2]])"
      ]
     },
     "execution_count": 4,
     "metadata": {
      "tags": []
     },
     "output_type": "execute_result"
    }
   ],
   "source": [
    "iris.data[:5]"
   ]
  },
  {
   "cell_type": "code",
   "execution_count": 5,
   "metadata": {
    "colab": {
     "base_uri": "https://localhost:8080/",
     "height": 136
    },
    "colab_type": "code",
    "executionInfo": {
     "elapsed": 1828,
     "status": "ok",
     "timestamp": 1588697295009,
     "user": {
      "displayName": "Sanket Kumbhare",
      "photoUrl": "https://lh3.googleusercontent.com/a-/AOh14Gj6hPoWxeWn_K5PLwx86kFcTGcBPSZVsAWHcTWgNQ=s64",
      "userId": "17414675687279047219"
     },
     "user_tz": -330
    },
    "id": "7TCqYQNDV384",
    "outputId": "09685347-6453-4e4d-f813-c12e88b34de7"
   },
   "outputs": [
    {
     "data": {
      "text/plain": [
       "array([0, 0, 0, 0, 0, 0, 0, 0, 0, 0, 0, 0, 0, 0, 0, 0, 0, 0, 0, 0, 0, 0,\n",
       "       0, 0, 0, 0, 0, 0, 0, 0, 0, 0, 0, 0, 0, 0, 0, 0, 0, 0, 0, 0, 0, 0,\n",
       "       0, 0, 0, 0, 0, 0, 1, 1, 1, 1, 1, 1, 1, 1, 1, 1, 1, 1, 1, 1, 1, 1,\n",
       "       1, 1, 1, 1, 1, 1, 1, 1, 1, 1, 1, 1, 1, 1, 1, 1, 1, 1, 1, 1, 1, 1,\n",
       "       1, 1, 1, 1, 1, 1, 1, 1, 1, 1, 1, 1, 2, 2, 2, 2, 2, 2, 2, 2, 2, 2,\n",
       "       2, 2, 2, 2, 2, 2, 2, 2, 2, 2, 2, 2, 2, 2, 2, 2, 2, 2, 2, 2, 2, 2,\n",
       "       2, 2, 2, 2, 2, 2, 2, 2, 2, 2, 2, 2, 2, 2, 2, 2, 2, 2])"
      ]
     },
     "execution_count": 5,
     "metadata": {
      "tags": []
     },
     "output_type": "execute_result"
    }
   ],
   "source": [
    "iris.target"
   ]
  },
  {
   "cell_type": "markdown",
   "metadata": {
    "colab_type": "text",
    "id": "DnEt7wN6LSxQ"
   },
   "source": [
    "## Data analysis\n",
    "### Plotting Sepal's Width and Length\n",
    "\n",
    "\n"
   ]
  },
  {
   "cell_type": "code",
   "execution_count": 6,
   "metadata": {
    "colab": {
     "base_uri": "https://localhost:8080/",
     "height": 312
    },
    "colab_type": "code",
    "executionInfo": {
     "elapsed": 2345,
     "status": "ok",
     "timestamp": 1588697295553,
     "user": {
      "displayName": "Sanket Kumbhare",
      "photoUrl": "https://lh3.googleusercontent.com/a-/AOh14Gj6hPoWxeWn_K5PLwx86kFcTGcBPSZVsAWHcTWgNQ=s64",
      "userId": "17414675687279047219"
     },
     "user_tz": -330
    },
    "id": "dfzqr1k1LsEc",
    "outputId": "ad149117-b872-485b-a944-80c2319400a1"
   },
   "outputs": [
    {
     "data": {
      "text/plain": [
       "Text(0.5, 1.0, 'Sepal size distribution')"
      ]
     },
     "execution_count": 6,
     "metadata": {
      "tags": []
     },
     "output_type": "execute_result"
    },
    {
     "data": {
      "image/png": "[encoded data removed]",
      "text/plain": [
       "<Figure size 432x288 with 1 Axes>"
      ]
     },
     "metadata": {
      "needs_background": "light",
      "tags": []
     },
     "output_type": "display_data"
    }
   ],
   "source": [
    "# Select all rows and only first two columns (sepal length/width)\n",
    "X = iris.data[:, :2]\n",
    "\n",
    "# Target will be used to plot samples in different colors for different species\n",
    "Y = iris.target\n",
    "\n",
    "plt.scatter(X[:,0], X[:,1], c=Y)\n",
    "plt.xlabel('Sepal Length (cm)')\n",
    "plt.ylabel('Sepal Width (cm)')\n",
    "plt.title('Sepal size distribution')"
   ]
  },
  {
   "cell_type": "markdown",
   "metadata": {
    "colab_type": "text",
    "id": "NjwKCY4BMHSv"
   },
   "source": [
    "### Plotting Petal's Width and Length"
   ]
  },
  {
   "cell_type": "code",
   "execution_count": 7,
   "metadata": {
    "colab": {
     "base_uri": "https://localhost:8080/",
     "height": 312
    },
    "colab_type": "code",
    "executionInfo": {
     "elapsed": 3155,
     "status": "ok",
     "timestamp": 1588697296446,
     "user": {
      "displayName": "Sanket Kumbhare",
      "photoUrl": "https://lh3.googleusercontent.com/a-/AOh14Gj6hPoWxeWn_K5PLwx86kFcTGcBPSZVsAWHcTWgNQ=s64",
      "userId": "17414675687279047219"
     },
     "user_tz": -330
    },
    "id": "KobmfSusNUaO",
    "outputId": "5f9d5908-e7f3-44a6-e386-53312e874d4b"
   },
   "outputs": [
    {
     "data": {
      "text/plain": [
       "Text(0.5, 1.0, 'Petal size distribution (cm)')"
      ]
     },
     "execution_count": 7,
     "metadata": {
      "tags": []
     },
     "output_type": "execute_result"
    },
    {
     "data": {
      "image/png": "[encoded data removed]",
      "text/plain": [
       "<Figure size 432x288 with 1 Axes>"
      ]
     },
     "metadata": {
      "needs_background": "light",
      "tags": []
     },
     "output_type": "display_data"
    }
   ],
   "source": [
    "# Select all rows and only last two columns (sepal length/width)\n",
    "X = iris.data[:, 2:]\n",
    "\n",
    "# Target will be used to plot samples in different colors for different species\n",
    "Y = iris.target\n",
    "\n",
    "plt.scatter(X[:,0], X[:,1], c=Y)\n",
    "plt.xlabel('Petal Length')\n",
    "plt.ylabel('Petal Width')\n",
    "plt.title('Petal size distribution (cm)')"
   ]
  },
  {
   "cell_type": "markdown",
   "metadata": {
    "colab_type": "text",
    "id": "AGk3NwuvNslW"
   },
   "source": [
    "## Logistic Regression Model\n",
    "\n",
    "We will create a basic model that predicts if a sample is one of the three species or not.\n",
    "\n",
    "The structure of the model appears below:\n",
    "\n",
    "![Logistic Regression](https://drive.google.com/uc?id=1ULKSXMn_wy17SwNYXAHsqmVGgo_scOO8)"
   ]
  },
  {
   "cell_type": "markdown",
   "metadata": {
    "colab_type": "text",
    "id": "CHud6OKsp15c"
   },
   "source": [
    "here, weights and bias are tuning parameter or hyperparameter which values we will initialize with any number or with zero the model will learn this weights and bias values through iterations"
   ]
  },
  {
   "cell_type": "markdown",
   "metadata": {
    "colab_type": "text",
    "id": "Yzqieq61NcqL"
   },
   "source": [
    "## Sigmoid Function\n",
    "The [Sigmoid function](https://en.wikipedia.org/wiki/Sigmoid_function) is commonly used in logistic regression and artificial neurons. It's one way to convert continous values into more of a binary value. This also called an activation function in neural networks. There are many other types of activation functions in use today."
   ]
  },
  {
   "cell_type": "code",
   "execution_count": 8,
   "metadata": {
    "colab": {
     "base_uri": "https://localhost:8080/",
     "height": 312
    },
    "colab_type": "code",
    "executionInfo": {
     "elapsed": 3121,
     "status": "ok",
     "timestamp": 1588697296448,
     "user": {
      "displayName": "Sanket Kumbhare",
      "photoUrl": "https://lh3.googleusercontent.com/a-/AOh14Gj6hPoWxeWn_K5PLwx86kFcTGcBPSZVsAWHcTWgNQ=s64",
      "userId": "17414675687279047219"
     },
     "user_tz": -330
    },
    "id": "PxY7alcaUdUB",
    "outputId": "09bde885-27c3-4faa-f425-639ec94b3782"
   },
   "outputs": [
    {
     "data": {
      "text/plain": [
       "Text(0.5, 1.0, 'Logistic Sigmoid')"
      ]
     },
     "execution_count": 8,
     "metadata": {
      "tags": []
     },
     "output_type": "execute_result"
    },
    {
     "data": {
      "image/png": "[encoded data removed]",
      "text/plain": [
       "<Figure size 432x288 with 1 Axes>"
      ]
     },
     "metadata": {
      "needs_background": "light",
      "tags": []
     },
     "output_type": "display_data"
    }
   ],
   "source": [
    "def sigmoid(z):\n",
    "  return 1.0/(1 + math.e ** (-z))\n",
    "\n",
    "x = [i * 0.1 for i in range(-50, 51)]\n",
    "y = [sigmoid(z) for z in x]\n",
    "plt.plot(x, y)\n",
    "plt.xlabel('x')\n",
    "plt.ylabel('y')\n",
    "plt.title('Logistic Sigmoid')"
   ]
  },
  {
   "cell_type": "markdown",
   "metadata": {
    "colab_type": "text",
    "id": "iFTNQL_bVqXw"
   },
   "source": [
    "## Prediction Function\n",
    "\n",
    "This function takes one sample, multiplies by the weights, adds a bias, and passes the sum through a Sigmoid function. This function will be used to determine weights and biases during training as well as make predictions after training is complete."
   ]
  },
  {
   "cell_type": "code",
   "execution_count": 0,
   "metadata": {
    "colab": {},
    "colab_type": "code",
    "id": "R4j3V5v_Uupb"
   },
   "outputs": [],
   "source": [
    "def predict(sample):\n",
    "  result  = 0.0\n",
    "  for i in range(len(sample)):\n",
    "    result = result + weights[i] * sample[i]\n",
    "    \n",
    "  result = result + bias\n",
    "  return sigmoid(result)"
   ]
  },
  {
   "cell_type": "markdown",
   "metadata": {
    "colab_type": "text",
    "id": "eCtP11H7VsQD"
   },
   "source": [
    "## Loss and Cost Functions\n",
    "\n",
    "The loss function compares the predicted output with the expected output for a single training sample. If the absolute difference between the predicted and expected output is high, the loss should be high. The loss function here is a bit more complicated than a simple difference between predicted output and expected output, because it is known to make training easier.\n",
    "\n",
    "$$\\mathcal L(y, \\hat y) = -(y \\log \\hat y + (1-y) \\log (1 - \\hat y))$$\n",
    "\n",
    "Where $\\mathcal L$ is the loss, $y$ is the training sample or ground truth, and $\\hat y$ is the predicted value from the model.\n",
    "\n",
    "there are some other loss fuction like Mean square error, Mean Absolute Error, Mean bias error"
   ]
  },
  {
   "cell_type": "code",
   "execution_count": 0,
   "metadata": {
    "colab": {},
    "colab_type": "code",
    "id": "NmMCudWcUybj"
   },
   "outputs": [],
   "source": [
    "def loss(y_train, y_predicted):\n",
    "  return -(y_train * math.log(y_predicted) + (1.0 - y_train) * math.log(1 - y_predicted))"
   ]
  },
  {
   "cell_type": "markdown",
   "metadata": {
    "colab_type": "text",
    "id": "ITut1pFDWW_1"
   },
   "source": [
    "We can see how this function behaves for a fixed training value and a range of predicted values.\n"
   ]
  },
  {
   "cell_type": "code",
   "execution_count": 11,
   "metadata": {
    "colab": {
     "base_uri": "https://localhost:8080/",
     "height": 312
    },
    "colab_type": "code",
    "executionInfo": {
     "elapsed": 3037,
     "status": "ok",
     "timestamp": 1588697296453,
     "user": {
      "displayName": "Sanket Kumbhare",
      "photoUrl": "https://lh3.googleusercontent.com/a-/AOh14Gj6hPoWxeWn_K5PLwx86kFcTGcBPSZVsAWHcTWgNQ=s64",
      "userId": "17414675687279047219"
     },
     "user_tz": -330
    },
    "id": "_-RovTF4U43l",
    "outputId": "07b12575-6f07-46d2-92a9-c8ae98e1c7f8"
   },
   "outputs": [
    {
     "data": {
      "text/plain": [
       "Text(0.5, 1.0, 'Loss near 0.90')"
      ]
     },
     "execution_count": 11,
     "metadata": {
      "tags": []
     },
     "output_type": "execute_result"
    },
    {
     "data": {
      "image/png": "[encoded data removed]",
      "text/plain": [
       "<Figure size 432x288 with 1 Axes>"
      ]
     },
     "metadata": {
      "needs_background": "light",
      "tags": []
     },
     "output_type": "display_data"
    }
   ],
   "source": [
    "y_train = 0.9\n",
    "x = [i * 0.1 for i in range(1, 9)]\n",
    "y = [loss(y_train, yp) for yp in x]\n",
    "plt.plot(x, y)\n",
    "plt.xlabel('x')\n",
    "plt.ylabel('y')\n",
    "plt.title('Loss near %0.2f' % y_train)"
   ]
  },
  {
   "cell_type": "markdown",
   "metadata": {
    "colab_type": "text",
    "id": "OTMOXOanWeqN"
   },
   "source": [
    "The cost function is the average of the loss over all training samples:\n",
    "\n",
    "$$\\mathcal J = \\frac{1}{m} \\sum_{i=0}^{m} \\mathcal L(y, \\hat y)$$"
   ]
  },
  {
   "cell_type": "markdown",
   "metadata": {
    "colab_type": "text",
    "id": "Tst1wD4CWmrE"
   },
   "source": [
    "## Gradient Descent\n",
    "\n",
    "Gradient descent attempts to minimize the cost function by iteratively adjusting weights and biases in the direction of lower cost. This achieved by computing the derivative (gradient) or slope of the cost function for each of the weights and biases.\n",
    "\n",
    "The general equations are\n",
    "\n",
    "$$w_{k+1} = w_{k} - \\alpha \\frac{\\partial \\mathcal J}{\\partial w}$$\n",
    "\n",
    "$$b_{k+1} = b_{k} - \\alpha \\frac{\\partial \\mathcal J}{\\partial b}$$\n",
    "\n",
    "Where $w_{k}$ and $b_{k}$ are the current values of weights and biases, and $w_{k+}$ and $b_{k+1}$ are the next values after one iteration. The number $\\alpha$ is the learning rate, which is a tuning parameter or hyperparameter. \n",
    "\n",
    " Let's consider an example in two dimensions:\n",
    "\n",
    " Parabola equation: $$y = x^2 + \\frac{x}{2}$$\n",
    "\n",
    "\n"
   ]
  },
  {
   "cell_type": "code",
   "execution_count": 12,
   "metadata": {
    "colab": {
     "base_uri": "https://localhost:8080/",
     "height": 312
    },
    "colab_type": "code",
    "executionInfo": {
     "elapsed": 2989,
     "status": "ok",
     "timestamp": 1588697296454,
     "user": {
      "displayName": "Sanket Kumbhare",
      "photoUrl": "https://lh3.googleusercontent.com/a-/AOh14Gj6hPoWxeWn_K5PLwx86kFcTGcBPSZVsAWHcTWgNQ=s64",
      "userId": "17414675687279047219"
     },
     "user_tz": -330
    },
    "id": "98MjTB18XsL6",
    "outputId": "54cf46b3-4a82-4ef1-ebf4-c4b4906f4417"
   },
   "outputs": [
    {
     "data": {
      "text/plain": [
       "Text(0.5, 1.0, 'Simple function')"
      ]
     },
     "execution_count": 12,
     "metadata": {
      "tags": []
     },
     "output_type": "execute_result"
    },
    {
     "data": {
      "image/png": "[encoded data removed]",
      "text/plain": [
       "<Figure size 432x288 with 1 Axes>"
      ]
     },
     "metadata": {
      "needs_background": "light",
      "tags": []
     },
     "output_type": "display_data"
    }
   ],
   "source": [
    "def parabola(x):\n",
    "    return x**2 + x/2.0\n",
    "\n",
    "x = [i * 0.1 for i in range(-10, 11)]\n",
    "y = [parabola(xi) for xi in x]\n",
    "plt.plot(x, y)\n",
    "plt.xlabel('x')\n",
    "plt.ylabel('y')\n",
    "plt.title('Simple function')"
   ]
  },
  {
   "cell_type": "markdown",
   "metadata": {
    "colab_type": "text",
    "id": "l2SLdC6oXxhs"
   },
   "source": [
    "The first derivative, or the slope at any point $x$ is:\n",
    "\n",
    "$$\\frac{\\partial y}{\\partial x} = 2x + 0.5$$\n",
    "\n",
    "To find the minimum, iterate using this equation:\n",
    "\n",
    "$$x_{k+1} = x_{k} - \\alpha \\frac{\\partial y}{\\partial x}$$"
   ]
  },
  {
   "cell_type": "code",
   "execution_count": 13,
   "metadata": {
    "colab": {
     "base_uri": "https://localhost:8080/",
     "height": 346
    },
    "colab_type": "code",
    "executionInfo": {
     "elapsed": 3836,
     "status": "ok",
     "timestamp": 1588697297347,
     "user": {
      "displayName": "Sanket Kumbhare",
      "photoUrl": "https://lh3.googleusercontent.com/a-/AOh14Gj6hPoWxeWn_K5PLwx86kFcTGcBPSZVsAWHcTWgNQ=s64",
      "userId": "17414675687279047219"
     },
     "user_tz": -330
    },
    "id": "28jWAoCIX5-0",
    "outputId": "36249f38-06f5-47ca-cda3-87b2e4d40c64"
   },
   "outputs": [
    {
     "name": "stdout",
     "output_type": "stream",
     "text": [
      "Estimated minimum -0.25, -0.06\n",
      "Derivative (gradient) 0.00\n"
     ]
    },
    {
     "data": {
      "text/plain": [
       "Text(0.5, 1.0, 'Simple function')"
      ]
     },
     "execution_count": 13,
     "metadata": {
      "tags": []
     },
     "output_type": "execute_result"
    },
    {
     "data": {
      "image/png": "[encoded data removed]",
      "text/plain": [
       "<Figure size 432x288 with 1 Axes>"
      ]
     },
     "metadata": {
      "needs_background": "light",
      "tags": []
     },
     "output_type": "display_data"
    }
   ],
   "source": [
    "x_k = 0.0\n",
    "\n",
    "learning_rate = 0.5\n",
    "\n",
    "def derivative(x):\n",
    "  return 2*x + 0.5\n",
    "\n",
    "for i in range(5):\n",
    "    gradient = derivative(x_k)\n",
    "    x_k = x_k - learning_rate*gradient\n",
    "\n",
    "print('Estimated minimum %0.2f, %0.2f' % (x_k, parabola(x_k)))\n",
    "print('Derivative (gradient) %0.2f' % gradient)\n",
    "\n",
    "x = [i * 0.1 for i in range(-10, 11)]\n",
    "y = [parabola(xi) for xi in x]\n",
    "plt.plot(x, y)\n",
    "plt.xlabel('x')\n",
    "plt.ylabel('y')\n",
    "plt.plot(x_k, parabola(x_k), 'ro')\n",
    "line_x = [x_k - 0.5, x_k + 0.5]\n",
    "line_y = [gradient*(xi-x_k)+parabola(x_k) for xi in line_x]\n",
    "plt.plot(line_x, line_y)\n",
    "plt.title('Simple function')"
   ]
  },
  {
   "cell_type": "markdown",
   "metadata": {
    "colab_type": "text",
    "id": "M5bHKBIvYprY"
   },
   "source": [
    "If the learning rate is too small, it will take longer to train, whereas too large of a training value might result in wild oscillations that never converge on an optimum solution."
   ]
  },
  {
   "cell_type": "markdown",
   "metadata": {
    "colab_type": "text",
    "id": "ulA5-d8WY3K8"
   },
   "source": [
    "## Backpropagation Algorithm\n",
    "\n",
    "[Backpropagation](https://en.wikipedia.org/wiki/Backpropagation) is a widely used algorithm for training machine learning models. It attempts to learn weights and biases by iteratively adjusting these values in order to minimize the loss between predicted and expected output."
   ]
  },
  {
   "cell_type": "code",
   "execution_count": 0,
   "metadata": {
    "colab": {},
    "colab_type": "code",
    "id": "3eiG0eoVVFnb"
   },
   "outputs": [],
   "source": [
    "num_features = iris.data.shape[1]\n",
    "\n",
    "def train_one_epoch(x_train_samples, y_train_samples):\n",
    "  cost = 0.0\n",
    "  dw = [0.0] * num_features\n",
    "  db = 0.0\n",
    "\n",
    "  global bias, weights\n",
    "\n",
    "  m = len(x_train_samples)\n",
    "  for i in range(m):\n",
    "    x_sample = x_train_samples[i]\n",
    "    y_sample = y_train_samples[i]\n",
    "    predicted = predict(x_sample)\n",
    "    cost = cost + loss(y_sample, predicted)\n",
    "    \n",
    "    # dz is the derivative of the loss function\n",
    "    dz = predicted - y_sample\n",
    "    \n",
    "    for j in range(len(weights)):\n",
    "      dw[j] = dw[j] + x_sample[j] * dz\n",
    "    db = db + dz\n",
    "  \n",
    "  cost = cost / m\n",
    "  db = db / m\n",
    "  bias = bias - learning_rate*db\n",
    "  for j in range(len(weights)):\n",
    "    dw[j] = dw[j] / m\n",
    "    weights[j] = weights[j] - learning_rate*dw[j]\n",
    "  \n",
    "  return cost"
   ]
  },
  {
   "cell_type": "markdown",
   "metadata": {
    "colab_type": "text",
    "id": "_xk-mAoOY7cm"
   },
   "source": [
    "## Training Algorithm\n",
    "\n",
    "This algorithm with iterate through the training data many times and call the backpropagation function.\n",
    "\n",
    "We can train model according to only one class in Logistic regression "
   ]
  },
  {
   "cell_type": "code",
   "execution_count": 15,
   "metadata": {
    "colab": {
     "base_uri": "https://localhost:8080/",
     "height": 295
    },
    "colab_type": "code",
    "executionInfo": {
     "elapsed": 5481,
     "status": "ok",
     "timestamp": 1588697299091,
     "user": {
      "displayName": "Sanket Kumbhare",
      "photoUrl": "https://lh3.googleusercontent.com/a-/AOh14Gj6hPoWxeWn_K5PLwx86kFcTGcBPSZVsAWHcTWgNQ=s64",
      "userId": "17414675687279047219"
     },
     "user_tz": -330
    },
    "id": "eVblFOXeVKEF",
    "outputId": "6a65f7b5-da6d-463c-c470-50a21392cbf5"
   },
   "outputs": [
    {
     "data": {
      "image/png": "[encoded data removed]",
      "text/plain": [
       "<Figure size 432x288 with 1 Axes>"
      ]
     },
     "metadata": {
      "needs_background": "light",
      "tags": []
     },
     "output_type": "display_data"
    }
   ],
   "source": [
    "# Model will \"learn\" values for the weights and biases\n",
    "\n",
    "weights = [0.0] * num_features\n",
    "bias = 0.0\n",
    " \n",
    "learning_rate = 0.1\n",
    "\n",
    "epochs = 2000\n",
    "\n",
    "x_train_samples = iris.data\n",
    "\n",
    "# here we are training the model according to Iris-Virginica we change it by changing the value of 'y' to '0', '1', '2'\n",
    "# '0' for Iris-Iris-Setosa, '1' for Iris-Versicolour, '2' for Iris-Virginica\n",
    "y_train_samples = [1 if y == 2 else 0 for y in iris.target] \n",
    "\n",
    "loss_array = []\n",
    "for epoch in range(epochs):\n",
    "  loss_value = train_one_epoch(x_train_samples, y_train_samples)\n",
    "  loss_array.append(loss_value)\n",
    "\n",
    "plt.plot(range(epochs), loss_array)\n",
    "plt.ylabel('Loss')\n",
    "plt.xlabel('Epoch')\n",
    "plt.title('Loss vs. Epoch')\n",
    "plt.show()"
   ]
  },
  {
   "cell_type": "markdown",
   "metadata": {
    "colab_type": "text",
    "id": "OQnZvVcOsxE2"
   },
   "source": [
    "Learning rate and Epoches are exerimental values"
   ]
  },
  {
   "cell_type": "markdown",
   "metadata": {
    "colab_type": "text",
    "id": "oX2cvzjqZCp1"
   },
   "source": [
    "## Make Predictions\n",
    "\n",
    "Once the model is trained, it can be used to make predictions."
   ]
  },
  {
   "cell_type": "code",
   "execution_count": 16,
   "metadata": {
    "colab": {
     "base_uri": "https://localhost:8080/",
     "height": 296
    },
    "colab_type": "code",
    "executionInfo": {
     "elapsed": 5442,
     "status": "ok",
     "timestamp": 1588697299093,
     "user": {
      "displayName": "Sanket Kumbhare",
      "photoUrl": "https://lh3.googleusercontent.com/a-/AOh14Gj6hPoWxeWn_K5PLwx86kFcTGcBPSZVsAWHcTWgNQ=s64",
      "userId": "17414675687279047219"
     },
     "user_tz": -330
    },
    "id": "C_k0rRSoVZsB",
    "outputId": "fdd30a95-283f-4ea6-8ef9-df93cac2b176"
   },
   "outputs": [
    {
     "data": {
      "image/png": "[encoded data removed]",
      "text/plain": [
       "<Figure size 432x288 with 1 Axes>"
      ]
     },
     "metadata": {
      "needs_background": "light",
      "tags": []
     },
     "output_type": "display_data"
    },
    {
     "name": "stdout",
     "output_type": "stream",
     "text": [
      "Accuracy: 98.00 %\n"
     ]
    }
   ],
   "source": [
    "predictions = []\n",
    "\n",
    "m = len(x_train_samples)\n",
    "correct = 0\n",
    "for i in range(m):\n",
    "  sample = x_train_samples[i]\n",
    "  value = predict(sample)\n",
    "  predictions.append(value)\n",
    "  if value >= 0.5:\n",
    "    value = 1\n",
    "  else:\n",
    "    value = 0\n",
    "  if value == y_train_samples[i]:\n",
    "    correct = correct + 1.0\n",
    "\n",
    "plt.plot(range(m), predictions, label='Predicted')\n",
    "plt.plot(range(m), y_train_samples, label='Ground truth')\n",
    "plt.ylabel('Prediction')\n",
    "plt.xlabel('Sample')\n",
    "plt.legend(loc='best')\n",
    "plt.show()\n",
    "\n",
    "print('Accuracy: %.2f %%' % (100 * correct/m))"
   ]
  },
  {
   "cell_type": "markdown",
   "metadata": {
    "colab_type": "text",
    "id": "lxf44IZipEm8"
   },
   "source": [
    "Knowledge we gain from this model is that we founded the values of weights and bias which are tuning parameter or hyperparameter"
   ]
  },
  {
   "cell_type": "code",
   "execution_count": 17,
   "metadata": {
    "colab": {
     "base_uri": "https://localhost:8080/",
     "height": 85
    },
    "colab_type": "code",
    "executionInfo": {
     "elapsed": 5406,
     "status": "ok",
     "timestamp": 1588697299094,
     "user": {
      "displayName": "Sanket Kumbhare",
      "photoUrl": "https://lh3.googleusercontent.com/a-/AOh14Gj6hPoWxeWn_K5PLwx86kFcTGcBPSZVsAWHcTWgNQ=s64",
      "userId": "17414675687279047219"
     },
     "user_tz": -330
    },
    "id": "V7oLRz5Hpvt5",
    "outputId": "bd83444c-74c3-46f8-b9a8-9b593af1fc9a"
   },
   "outputs": [
    {
     "data": {
      "text/plain": [
       "[-2.6708986997587525,\n",
       " -2.4476143616969965,\n",
       " 3.885744363596741,\n",
       " 3.8900094134665877]"
      ]
     },
     "execution_count": 17,
     "metadata": {
      "tags": []
     },
     "output_type": "execute_result"
    }
   ],
   "source": [
    "weights"
   ]
  },
  {
   "cell_type": "markdown",
   "metadata": {
    "colab_type": "text",
    "id": "QLJiOWoEsKsP"
   },
   "source": [
    "weights is list having 4 element each index of weight corresponds to the features of the dataset respectively.\n"
   ]
  },
  {
   "cell_type": "code",
   "execution_count": 18,
   "metadata": {
    "colab": {
     "base_uri": "https://localhost:8080/",
     "height": 34
    },
    "colab_type": "code",
    "executionInfo": {
     "elapsed": 5382,
     "status": "ok",
     "timestamp": 1588697299096,
     "user": {
      "displayName": "Sanket Kumbhare",
      "photoUrl": "https://lh3.googleusercontent.com/a-/AOh14Gj6hPoWxeWn_K5PLwx86kFcTGcBPSZVsAWHcTWgNQ=s64",
      "userId": "17414675687279047219"
     },
     "user_tz": -330
    },
    "id": "RQqJJRHiq9hW",
    "outputId": "a0b3de36-1d01-44c0-957c-469e95ef4cdd"
   },
   "outputs": [
    {
     "data": {
      "text/plain": [
       "-1.7652010584144546"
      ]
     },
     "execution_count": 18,
     "metadata": {
      "tags": []
     },
     "output_type": "execute_result"
    }
   ],
   "source": [
    "bias"
   ]
  }
 ],
 "metadata": {
  "colab": {
   "authorship_tag": "ABX9TyPaHqMkwFx1T0ei7JPZ1y7W",
   "collapsed_sections": [],
   "name": "iris.ipynb",
   "provenance": []
  },
  "kernelspec": {
   "display_name": "Python 3",
   "language": "python",
   "name": "python3"
  },
  "language_info": {
   "codemirror_mode": {
    "name": "ipython",
    "version": 3
   },
   "file_extension": ".py",
   "mimetype": "text/x-python",
   "name": "python",
   "nbconvert_exporter": "python",
   "pygments_lexer": "ipython3",
   "version": "3.7.6"
  }
 },
 "nbformat": 4,
 "nbformat_minor": 1
}
